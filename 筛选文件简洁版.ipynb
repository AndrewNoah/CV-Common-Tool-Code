{
 "cells": [
  {
   "cell_type": "code",
   "execution_count": 8,
   "metadata": {},
   "outputs": [],
   "source": [
    "# -*- coding: cp936 -*-\n",
    "import os\n",
    "import shutil\n",
    "##输入新的文件名\n",
    "##获取当前文件夹的路径\n",
    "f = open('VOC2007/ImageSets/Main/test.txt')\n",
    "lines = f.readlines()  # 整行读取\n",
    "f.close()\n",
    "\n",
    "for line in lines:\n",
    "\n",
    "    rs = line.rstrip('\\n')  # 去除原来每行后面的换行符，但有可能是\\r或\\r\\n\n",
    "    IMG = 'VOC2007/JPEGImages'  # 目标图片的地址\n",
    "    for jpg in os.listdir(IMG):\n",
    "        if rs == jpg[0:-4]:\n",
    "            shutil.copy(IMG + '/' + jpg, 'COCO23456/val')  # 第一个参数是原来图片的地址，第二个参数为复制之后的地址。"
   ]
  },
  {
   "cell_type": "code",
   "execution_count": null,
   "metadata": {},
   "outputs": [],
   "source": []
  }
 ],
 "metadata": {
  "kernelspec": {
   "display_name": "Python 3",
   "language": "python",
   "name": "python3"
  },
  "language_info": {
   "codemirror_mode": {
    "name": "ipython",
    "version": 3
   },
   "file_extension": ".py",
   "mimetype": "text/x-python",
   "name": "python",
   "nbconvert_exporter": "python",
   "pygments_lexer": "ipython3",
   "version": "3.7.7"
  }
 },
 "nbformat": 4,
 "nbformat_minor": 4
}
