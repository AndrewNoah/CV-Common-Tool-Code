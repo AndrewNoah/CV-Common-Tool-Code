{
 "cells": [
  {
   "cell_type": "code",
   "execution_count": 4,
   "metadata": {},
   "outputs": [
    {
     "name": "stdout",
     "output_type": "stream",
     "text": [
      "93136326_S2_C2_P2.jpg\n"
     ]
    }
   ],
   "source": [
    "import os\n",
    "import xml.dom.minidom\n",
    "import cv2 as cv\n",
    " \n",
    "ImgPath = 'VOC2007/JPEGImages/'\n",
    "AnnoPath = 'VOC2007/Annotations/'  #xml文件地址\n",
    "save_path = 'FK/'\n",
    "def draw_anchor(ImgPath,AnnoPath,save_path):\n",
    "    imagelist = os.listdir(ImgPath)\n",
    "    for image in imagelist:\n",
    " \n",
    "        image_pre, ext = os.path.splitext(image)\n",
    "        imgfile = ImgPath + image\n",
    "        xmlfile = AnnoPath + image_pre + '.xml'\n",
    "        # print(image)\n",
    "        # 打开xml文档\n",
    "        DOMTree = xml.dom.minidom.parse(xmlfile)\n",
    "        # 得到文档元素对象\n",
    "        collection = DOMTree.documentElement\n",
    "        # 读取图片\n",
    "        img = cv.imread(imgfile)\n",
    " \n",
    "        filenamelist = collection.getElementsByTagName(\"filename\")\n",
    "        filename = filenamelist[0].childNodes[0].data\n",
    "        print(filename)\n",
    "        # 得到标签名为object的信息\n",
    "        objectlist = collection.getElementsByTagName(\"object\")\n",
    " \n",
    "        for objects in objectlist:\n",
    "            # 每个object中得到子标签名为name的信息\n",
    "            namelist = objects.getElementsByTagName('name')\n",
    "            # 通过此语句得到具体的某个name的值\n",
    "            objectname = namelist[0].childNodes[0].data\n",
    " \n",
    "            bndbox = objects.getElementsByTagName('bndbox')\n",
    "            # print(bndbox)\n",
    "            for box in bndbox:\n",
    "                x1_list = box.getElementsByTagName('xmin')\n",
    "                x1 = int(x1_list[0].childNodes[0].data)\n",
    "                y1_list = box.getElementsByTagName('ymin')\n",
    "                y1 = int(y1_list[0].childNodes[0].data)\n",
    "                x2_list = box.getElementsByTagName('xmax')   #注意坐标，看是否需要转换\n",
    "                x2 = int(x2_list[0].childNodes[0].data)\n",
    "                y2_list = box.getElementsByTagName('ymax')\n",
    "                y2 = int(y2_list[0].childNodes[0].data)\n",
    "                cv.rectangle(img, (x1, y1), (x2, y2), (0, 0, 255), thickness=2)\n",
    "                cv.putText(img, objectname, (x1, y1), cv.FONT_HERSHEY_COMPLEX, 0.7, (0, 255, 0),\n",
    "                           thickness=2)\n",
    "                # cv.imshow('head', img)\n",
    "                cv.imwrite(save_path+'/'+filename, img)   #save picture\n",
    "draw_anchor(ImgPath,AnnoPath,save_path)"
   ]
  },
  {
   "cell_type": "code",
   "execution_count": null,
   "metadata": {},
   "outputs": [],
   "source": []
  }
 ],
 "metadata": {
  "kernelspec": {
   "display_name": "Python 3",
   "language": "python",
   "name": "python3"
  },
  "language_info": {
   "codemirror_mode": {
    "name": "ipython",
    "version": 3
   },
   "file_extension": ".py",
   "mimetype": "text/x-python",
   "name": "python",
   "nbconvert_exporter": "python",
   "pygments_lexer": "ipython3",
   "version": "3.7.7"
  }
 },
 "nbformat": 4,
 "nbformat_minor": 4
}
