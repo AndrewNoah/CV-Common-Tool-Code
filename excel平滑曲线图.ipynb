{
 "cells": [
  {
   "cell_type": "code",
   "execution_count": 11,
   "metadata": {},
   "outputs": [
    {
     "name": "stderr",
     "output_type": "stream",
     "text": [
      "100%|██████████| 93/93 [00:00<00:00, 5130.41it/s]"
     ]
    },
    {
     "name": "stdout",
     "output_type": "stream",
     "text": [
      "processing xml format annotations ...\n",
      "Done!\n"
     ]
    },
    {
     "name": "stderr",
     "output_type": "stream",
     "text": [
      "\n"
     ]
    }
   ],
   "source": [
    "import os.path as osp\n",
    "import xml.etree.ElementTree as ET\n",
    "\n",
    "import mmcv\n",
    "\n",
    "\n",
    "from glob import glob\n",
    "from tqdm import tqdm\n",
    "from PIL import Image\n",
    "label_ids = {name: i + 1 for i, name in enumerate(['2','3','4','5','6'])}\n",
    "\n",
    "\n",
    "def get_segmentation(points):\n",
    "\n",
    "    return [points[0], points[1], points[2] + points[0], points[1],\n",
    "             points[2] + points[0], points[3] + points[1], points[0], points[3] + points[1]]\n",
    "\n",
    "\n",
    "def parse_xml(xml_path, img_id, anno_id):\n",
    "    tree = ET.parse(xml_path)\n",
    "    root = tree.getroot()\n",
    "    annotation = []\n",
    "    for obj in root.findall('object'):\n",
    "        name = obj.find('name').text\n",
    "        if name == 'waterweeds':\n",
    "            continue\n",
    "        category_id = label_ids[name]\n",
    "        bnd_box = obj.find('bndbox')\n",
    "        xmin = int(bnd_box.find('xmin').text)\n",
    "        ymin = int(bnd_box.find('ymin').text)\n",
    "        xmax = int(bnd_box.find('xmax').text)\n",
    "        ymax = int(bnd_box.find('ymax').text)\n",
    "        w = xmax - xmin + 1\n",
    "        h = ymax - ymin + 1\n",
    "        area = w*h\n",
    "        segmentation = get_segmentation([xmin, ymin, w, h])\n",
    "        annotation.append({\n",
    "                        \"segmentation\": segmentation,\n",
    "                        \"area\": area,\n",
    "                        \"iscrowd\": 0,\n",
    "                        \"image_id\": img_id,\n",
    "                        \"bbox\": [xmin, ymin, w, h],\n",
    "                        \"category_id\": category_id,\n",
    "                        \"id\": anno_id,\n",
    "                        \"ignore\": 0})\n",
    "        anno_id += 1\n",
    "    return annotation, anno_id\n",
    "\n",
    "\n",
    "def cvt_annotations(img_path, xml_path, out_file):\n",
    "    images = []\n",
    "    annotations = []\n",
    "\n",
    "    # xml_paths = glob(xml_path + '/*.xml')\n",
    "    img_id = 1\n",
    "    anno_id = 1\n",
    "    for img_path in tqdm(glob(img_path + '/*.jpg')):\n",
    "        w, h = Image.open(img_path).size\n",
    "        img_name = osp.basename(img_path)\n",
    "        img = {\"file_name\": img_name, \"height\": int(h), \"width\": int(w), \"id\": img_id}\n",
    "        images.append(img)\n",
    "\n",
    "        xml_file_name = img_name.split('.')[0] + '.xml'\n",
    "        xml_file_path = osp.join(xml_path, xml_file_name)\n",
    "        annos, anno_id = parse_xml(xml_file_path, img_id, anno_id)\n",
    "        annotations.extend(annos)\n",
    "        img_id += 1\n",
    "\n",
    "    categories = []\n",
    "    for k,v in label_ids.items():\n",
    "        categories.append({\"name\": k, \"id\": v})\n",
    "    final_result = {\"images\": images, \"annotations\": annotations, \"categories\": categories}\n",
    "    mmcv.dump(final_result, out_file)\n",
    "    return annotations\n",
    "\n",
    "\n",
    "def main():\n",
    "    xml_path = 'COCO23456/valan'\n",
    "    img_path = 'COCO23456/val'\n",
    "    print('processing {} ...'.format(\"xml format annotations\"))\n",
    "    cvt_annotations(img_path, xml_path, 'COCO23456/annotations/val.json')\n",
    "    print('Done!')\n",
    "\n",
    "\n",
    "if __name__ == '__main__':\n",
    "    main()\n"
   ]
  },
  {
   "cell_type": "code",
   "execution_count": 2,
   "metadata": {},
   "outputs": [
    {
     "name": "stdout",
     "output_type": "stream",
     "text": [
      "\n",
      "CommandNotFoundError: Your shell has not been properly configured to use 'conda activate'.\n",
      "To initialize your shell, run\n",
      "\n",
      "    $ conda init <SHELL_NAME>\n",
      "\n",
      "Currently supported shells are:\n",
      "  - bash\n",
      "  - fish\n",
      "  - tcsh\n",
      "  - xonsh\n",
      "  - zsh\n",
      "  - powershell\n",
      "\n",
      "See 'conda init --help' for more information and options.\n",
      "\n",
      "IMPORTANT: You may need to close and restart your shell after running 'conda init'.\n",
      "\n",
      "\n",
      "\n",
      "Note: you may need to restart the kernel to use updated packages.\n"
     ]
    }
   ],
   "source": [
    "conda activate mmlab"
   ]
  },
  {
   "cell_type": "code",
   "execution_count": null,
   "metadata": {},
   "outputs": [],
   "source": []
  }
 ],
 "metadata": {
  "kernelspec": {
   "display_name": "Python 3",
   "language": "python",
   "name": "python3"
  },
  "language_info": {
   "codemirror_mode": {
    "name": "ipython",
    "version": 3
   },
   "file_extension": ".py",
   "mimetype": "text/x-python",
   "name": "python",
   "nbconvert_exporter": "python",
   "pygments_lexer": "ipython3",
   "version": "3.7.7"
  }
 },
 "nbformat": 4,
 "nbformat_minor": 4
}
