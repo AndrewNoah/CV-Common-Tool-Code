{
 "cells": [
  {
   "cell_type": "code",
   "execution_count": 1,
   "metadata": {},
   "outputs": [
    {
     "ename": "FileNotFoundError",
     "evalue": "[Errno 2] No such file or directory: 'GJ2_2020/JPEGImage/'",
     "output_type": "error",
     "traceback": [
      "\u001b[0;31m---------------------------------------------------------------------------\u001b[0m",
      "\u001b[0;31mFileNotFoundError\u001b[0m                         Traceback (most recent call last)",
      "\u001b[0;32m<ipython-input-1-32b0ea897f35>\u001b[0m in \u001b[0;36m<module>\u001b[0;34m\u001b[0m\n\u001b[1;32m      6\u001b[0m \u001b[0mimg_fold_A\u001b[0m \u001b[0;34m=\u001b[0m \u001b[0;34m'GJ2_2020/JPEGImage/'\u001b[0m\u001b[0;34m\u001b[0m\u001b[0;34m\u001b[0m\u001b[0m\n\u001b[1;32m      7\u001b[0m \u001b[0msave_fold_A\u001b[0m\u001b[0;34m=\u001b[0m \u001b[0;34m'GJ2_2020/JPEGImage1/'\u001b[0m\u001b[0;34m\u001b[0m\u001b[0;34m\u001b[0m\u001b[0m\n\u001b[0;32m----> 8\u001b[0;31m \u001b[0mimg_list1\u001b[0m \u001b[0;34m=\u001b[0m \u001b[0mos\u001b[0m\u001b[0;34m.\u001b[0m\u001b[0mlistdir\u001b[0m\u001b[0;34m(\u001b[0m\u001b[0mimg_fold_A\u001b[0m\u001b[0;34m)\u001b[0m\u001b[0;34m\u001b[0m\u001b[0;34m\u001b[0m\u001b[0m\n\u001b[0m\u001b[1;32m      9\u001b[0m \u001b[0;34m\u001b[0m\u001b[0m\n\u001b[1;32m     10\u001b[0m \u001b[0mnum_imgs1\u001b[0m \u001b[0;34m=\u001b[0m \u001b[0mlen\u001b[0m\u001b[0;34m(\u001b[0m\u001b[0mimg_list1\u001b[0m\u001b[0;34m)\u001b[0m\u001b[0;34m\u001b[0m\u001b[0;34m\u001b[0m\u001b[0m\n",
      "\u001b[0;31mFileNotFoundError\u001b[0m: [Errno 2] No such file or directory: 'GJ2_2020/JPEGImage/'"
     ]
    }
   ],
   "source": [
    "#批量图片格式转换\n",
    "import os.path\n",
    "\n",
    "import cv2\n",
    "\n",
    "img_fold_A = 'GJ2_2020/JPEGImage/'\n",
    "save_fold_A= 'GJ2_2020/JPEGImage1/'\n",
    "img_list1 = os.listdir(img_fold_A)\n",
    "\n",
    "num_imgs1 = len(img_list1)\n",
    "\n",
    "for i in range(num_imgs1):\n",
    "    name_A = img_list1[i]\n",
    "    path_A = os.path.join(img_fold_A, name_A)\n",
    "    im_A = cv2.imread(path_A, 1)\n",
    "    file_name_temp = name_A[:-4]\n",
    "    file_name = os.path.join(save_fold_A , file_name_temp+'.jpg')\n",
    "    cv2.imwrite(file_name, im_A)\n"
   ]
  },
  {
   "cell_type": "code",
   "execution_count": 10,
   "metadata": {},
   "outputs": [],
   "source": [
    "#训练、测试集划分\n",
    "import os\n",
    "import random\n",
    "\n",
    "trainval_percent = 0.9\n",
    "train_percent = 0.1\n",
    "\n",
    "xmlfilepath = 'Mb/GJ20200730_2/Annotations'\n",
    "txtsavepath = 'Mb/GJ20200730_2/ImageSets/Main'\n",
    "\n",
    "# 历遍\"Annotations\"文件夹然后返回列表\n",
    "total_xml = os.listdir(xmlfilepath)\n",
    "\n",
    "# 获取列表的总数\n",
    "num = len(total_xml)\n",
    "list = range(num)\n",
    "\n",
    "\n",
    "tv = int(num * trainval_percent)\n",
    "tr = int(tv * train_percent)\n",
    "\n",
    "trainval = random.sample(list, tv)\n",
    "train = random.sample(trainval, tr)\n",
    "\n",
    "ftrainval = open('Mb/GJ20200730_2/ImageSets/Main/trainval.txt', 'w')\n",
    "ftest = open('Mb/GJ20200730_2/ImageSets/Main/test.txt', 'w')\n",
    "ftrain = open('Mb/GJ20200730_2/ImageSets/Main/train.txt', 'w')\n",
    "fval = open('Mb/GJ20200730_2/ImageSets/Main/val.txt', 'w')\n",
    "\n",
    "for i in list:\n",
    "    # 使用切片方法获取文件名(去掉后缀\".xml\")\n",
    "    name = total_xml[i][:-4] + '\\n'\n",
    "    if i in trainval:\n",
    "        ftrainval.write(name)\n",
    "        #if i in train:\n",
    "        #    ftest.write(name)\n",
    "        #else:\n",
    "        #    fval.write(name)\n",
    "    else:\n",
    "        ftest.write(name)\n",
    "\n",
    "ftrainval.close()\n",
    "ftrain.close()\n",
    "fval.close()\n",
    "ftest.close()"
   ]
  },
  {
   "cell_type": "code",
   "execution_count": 2,
   "metadata": {},
   "outputs": [
    {
     "data": {
      "text/plain": [
       "'/Users/xupeng/Desktop/Mac/python-jupyter代码'"
      ]
     },
     "execution_count": 2,
     "metadata": {},
     "output_type": "execute_result"
    }
   ],
   "source": [
    "pwd"
   ]
  },
  {
   "cell_type": "code",
   "execution_count": null,
   "metadata": {},
   "outputs": [],
   "source": []
  }
 ],
 "metadata": {
  "kernelspec": {
   "display_name": "Python 3",
   "language": "python",
   "name": "python3"
  },
  "language_info": {
   "codemirror_mode": {
    "name": "ipython",
    "version": 3
   },
   "file_extension": ".py",
   "mimetype": "text/x-python",
   "name": "python",
   "nbconvert_exporter": "python",
   "pygments_lexer": "ipython3",
   "version": "3.7.7"
  }
 },
 "nbformat": 4,
 "nbformat_minor": 4
}
