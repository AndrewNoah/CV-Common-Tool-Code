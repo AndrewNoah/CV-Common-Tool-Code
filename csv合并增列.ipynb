{
 "cells": [
  {
   "cell_type": "code",
   "execution_count": 16,
   "metadata": {},
   "outputs": [
    {
     "name": "stdout",
     "output_type": "stream",
     "text": [
      "0       93802608121\n",
      "1       93814448112\n",
      "2       93814450221\n",
      "3       93814449221\n",
      "4       93814464211\n",
      "           ...     \n",
      "1464    93140723212\n",
      "1465    93140723211\n",
      "1466    93825532112\n",
      "1467    93828028212\n",
      "1468    93833776211\n",
      "Name: newColumn, Length: 1469, dtype: object\n"
     ]
    }
   ],
   "source": [
    "import pandas as pd\n",
    "b='b.csv'\n",
    "df=pd.read_csv(b,encoding='utf8')\n",
    "# 在数据框最后加上score一列，元素值分别为：80，98，67，90\n",
    "df[\"newColumn\"] = df[\"CoilId\"].map(str) + df[\"TowerNo\"].map(str) + df[\"CameraNo\"].map(str) + df[\"PictureNo\"].map(str) \n",
    "print(df[\"newColumn\"])\n",
    "df.to_csv(\"b.csv\", index=False)\n",
    "#df1[‘score‘]=[80,98,67,90]   # 增加列的元素个数要跟原数据列的个数一样"
   ]
  },
  {
   "cell_type": "code",
   "execution_count": null,
   "metadata": {},
   "outputs": [],
   "source": []
  }
 ],
 "metadata": {
  "kernelspec": {
   "display_name": "Python 3",
   "language": "python",
   "name": "python3"
  },
  "language_info": {
   "codemirror_mode": {
    "name": "ipython",
    "version": 3
   },
   "file_extension": ".py",
   "mimetype": "text/x-python",
   "name": "python",
   "nbconvert_exporter": "python",
   "pygments_lexer": "ipython3",
   "version": "3.7.7"
  }
 },
 "nbformat": 4,
 "nbformat_minor": 4
}
