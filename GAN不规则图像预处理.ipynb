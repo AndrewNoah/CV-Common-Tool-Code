{
 "cells": [
  {
   "cell_type": "code",
   "execution_count": 11,
   "metadata": {},
   "outputs": [],
   "source": [
    "from PIL import Image\n",
    "import os\n",
    "import numpy as np\n",
    "\n",
    "def _nosquare(img):\n",
    "\tw, h = img.size\n",
    "\ts = min(h, w)\n",
    "\tsh = (h - s)/2.0\n",
    "\tsw = (w - s)/2.0\n",
    "\tcropped_img = img.crop((1000, 0, 3200, 1000))\n",
    "\treturn cropped_img\n",
    "\n",
    "def _square(img):\n",
    "\tw, h = img.size\n",
    "\ts = min(h, w)\n",
    "\tsh = (h - s)/2.0\n",
    "\tsw = (w - s)/2.0\n",
    "\tcropped_img = img.crop((sw, sh, sw+s, sh+s))\n",
    "\treturn cropped_img\n",
    "\n",
    "def _shrink(cropped_img, side):\n",
    "\treturn cropped_img.resize((side, side), resample=Image.LANCZOS)\n",
    "\n",
    "def square_and_shrink(side, input_dir, output_dir):\n",
    "\tfor f in os.listdir(input_dir):\n",
    "\t\timg = Image.open(input_dir + f)\n",
    "\t\tcropped_img = _nosquare(img)#_square(img)\n",
    "\t\tresized_img = _shrink(cropped_img, side)\n",
    "\t\tresized_img.save(output_dir + f)\n",
    "\n",
    "square_and_shrink(256, '111/5/', '111/n5/')"
   ]
  },
  {
   "cell_type": "code",
   "execution_count": null,
   "metadata": {},
   "outputs": [],
   "source": []
  }
 ],
 "metadata": {
  "kernelspec": {
   "display_name": "Python 3",
   "language": "python",
   "name": "python3"
  },
  "language_info": {
   "codemirror_mode": {
    "name": "ipython",
    "version": 3
   },
   "file_extension": ".py",
   "mimetype": "text/x-python",
   "name": "python",
   "nbconvert_exporter": "python",
   "pygments_lexer": "ipython3",
   "version": "3.7.7"
  }
 },
 "nbformat": 4,
 "nbformat_minor": 4
}
